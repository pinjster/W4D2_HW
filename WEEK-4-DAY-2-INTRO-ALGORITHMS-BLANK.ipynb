{
 "cells": [
  {
   "attachments": {},
   "cell_type": "markdown",
   "metadata": {},
   "source": [
    "# Algorithms, Binary Search & Linked Lists"
   ]
  },
  {
   "attachments": {},
   "cell_type": "markdown",
   "metadata": {},
   "source": [
    "## Tasks Today:\n",
    " \n",
    "1) <b>In-Place Algorithms</b> <br>\n",
    " &nbsp;&nbsp;&nbsp;&nbsp; a) Syntax <br>\n",
    " &nbsp;&nbsp;&nbsp;&nbsp; a) Out of Place Algorithm <br>\n",
    " &nbsp;&nbsp;&nbsp;&nbsp; b) In-Class Exercise #1 <br>\n",
    "2) <b>Two Pointers</b> <br>\n",
    "3) <b>Linked Lists</b> <br>\n",
    "4) <b>Merge Sort</b> <br>\n",
    " &nbsp;&nbsp;&nbsp;&nbsp; a) Video on Algorithms <br>\n",
    " &nbsp;&nbsp;&nbsp;&nbsp; b) How it Works <br>\n",
    "5) <b>Exercises</b> <br>\n",
    " &nbsp;&nbsp;&nbsp;&nbsp; a) Exercise #1 - Reverse a List in Place Using an In-Place Algorithm <br>\n",
    " &nbsp;&nbsp;&nbsp;&nbsp; b) Exercise #2 - Find Distinct Words <br>\n",
    " &nbsp;&nbsp;&nbsp;&nbsp; c) Exercise #3 - Write a program to implement a Linear Search Algorithm. <br>"
   ]
  },
  {
   "attachments": {},
   "cell_type": "markdown",
   "metadata": {},
   "source": [
    "## In-Place Algorithms"
   ]
  },
  {
   "attachments": {},
   "cell_type": "markdown",
   "metadata": {},
   "source": [
    "#### Syntax"
   ]
  },
  {
   "cell_type": "code",
   "execution_count": 3,
   "metadata": {},
   "outputs": [
    {
     "name": "stdout",
     "output_type": "stream",
     "text": [
      "[1, 100, 5]\n"
     ]
    }
   ],
   "source": [
    "def swap(alist, i1, i2):\n",
    "    alist[i1] , alist[i2] = alist[i2] , alist[i1]\n",
    "    return alist\n",
    "\n",
    "my_list = [100,1,5]\n",
    "swap(my_list, 0, 1)\n",
    "print(my_list)"
   ]
  },
  {
   "cell_type": "code",
   "execution_count": null,
   "metadata": {},
   "outputs": [],
   "source": []
  },
  {
   "attachments": {},
   "cell_type": "markdown",
   "metadata": {},
   "source": [
    "#### Out of Place Algorithm"
   ]
  },
  {
   "cell_type": "code",
   "execution_count": 4,
   "metadata": {},
   "outputs": [
    {
     "name": "stdout",
     "output_type": "stream",
     "text": [
      "[1, 2, 3, 4] [4, 2, 3, 1]\n"
     ]
    }
   ],
   "source": [
    "\n",
    "def swap_copy(alist, i, j):\n",
    "    alist_copy = alist[:]\n",
    "    alist_copy[i], alist_copy[j] = alist_copy[j] , alist_copy[i]\n",
    "    return alist_copy\n",
    "\n",
    "new_list = [1,2,3,4]\n",
    "copy_list = swap_copy(new_list, 0 , -1)\n",
    "\n",
    "print(new_list, copy_list)"
   ]
  },
  {
   "attachments": {},
   "cell_type": "markdown",
   "metadata": {},
   "source": [
    "#### In-Class Exercise #1 <br>\n",
    "<p>Write a function that takes in four arguments (list, index1, index2, index3), and swaps those three positions in the list passed in.</p>"
   ]
  },
  {
   "cell_type": "code",
   "execution_count": 7,
   "metadata": {},
   "outputs": [
    {
     "name": "stdout",
     "output_type": "stream",
     "text": [
      "[10, 4, 3, 8, 4, 2, 6]\n",
      "[10, 2, 3, 4, 4, 8, 6]\n"
     ]
    }
   ],
   "source": [
    "l_1 = [10, 4, 3, 8, 4, 2, 6]\n",
    "\n",
    "def swap_three(alist, i, j, k):\n",
    "    alist[i], alist[j], alist[k] = alist[k] , alist[i] , alist[j]\n",
    "    return alist\n",
    "\n",
    "print(l_1)\n",
    "swap_three(l_1 , 1, 3, 5)\n",
    "print(l_1)"
   ]
  },
  {
   "attachments": {},
   "cell_type": "markdown",
   "metadata": {},
   "source": [
    "## Two Pointers"
   ]
  },
  {
   "attachments": {},
   "cell_type": "markdown",
   "metadata": {},
   "source": [
    "#### Syntax"
   ]
  },
  {
   "cell_type": "code",
   "execution_count": 8,
   "metadata": {},
   "outputs": [
    {
     "name": "stdout",
     "output_type": "stream",
     "text": [
      "[2, 1, 9, 10]\n"
     ]
    }
   ],
   "source": [
    "#create two pointer (indecies) increment both indecies based off condition\n",
    "\n",
    "\n",
    "def reverse_list(alist):\n",
    "    l , r = 0 , len(alist) - 1\n",
    "    while l < r:\n",
    "        swap(alist, l, r)\n",
    "        l += 1\n",
    "        r -= 1\n",
    "\n",
    "list_to_reverse = [10, 9, 1, 2]\n",
    "reverse_list(list_to_reverse)\n",
    "print(list_to_reverse)"
   ]
  },
  {
   "cell_type": "code",
   "execution_count": 9,
   "metadata": {},
   "outputs": [
    {
     "name": "stdout",
     "output_type": "stream",
     "text": [
      "[2, 1, 9, 10]\n"
     ]
    }
   ],
   "source": [
    "def reverse_list(alist):\n",
    "    l , r = 0 , len(alist) - 1\n",
    "    while l < r:\n",
    "        alist[l] , alist[r] = alist[r] , alist[l]\n",
    "        l += 1\n",
    "        r -= 1\n",
    "\n",
    "list_to_reverse = [10, 9, 1, 2]\n",
    "reverse_list(list_to_reverse)\n",
    "print(list_to_reverse)"
   ]
  },
  {
   "cell_type": "code",
   "execution_count": 14,
   "metadata": {},
   "outputs": [
    {
     "name": "stdout",
     "output_type": "stream",
     "text": [
      "True\n",
      "True\n",
      "True\n"
     ]
    }
   ],
   "source": [
    "def check_palindrome(astring):\n",
    "    l , r = 0 , len(astring) - 1\n",
    "    while l < r:\n",
    "        if astring[l] != astring[r]:\n",
    "            return False\n",
    "        else:\n",
    "            l += 1\n",
    "            r -= 1\n",
    "    return True\n",
    "\n",
    "print(check_palindrome('aibohphobia'))\n",
    "print(check_palindrome('racecar'))\n",
    "print(check_palindrome('kayak'))\n"
   ]
  },
  {
   "attachments": {},
   "cell_type": "markdown",
   "metadata": {},
   "source": [
    "#### Video of Algorithms <br>\n",
    "<p>Watch the video about algorithms.</p>\n",
    "\n",
    "https://www.youtube.com/watch?v=Q9HjeFD62Uk\n",
    "\n",
    "https://www.youtube.com/watch?v=kPRA0W1kECg\n",
    "\n",
    "https://www.youtube.com/watch?v=ZZuD6iUe3Pc"
   ]
  },
  {
   "attachments": {},
   "cell_type": "markdown",
   "metadata": {},
   "source": [
    "# Sorting Algorithms"
   ]
  },
  {
   "attachments": {},
   "cell_type": "markdown",
   "metadata": {},
   "source": [
    "#### Bubble Sort\n",
    "\n",
    "Worst Case: O(n^2) Time - O(1) Space"
   ]
  },
  {
   "cell_type": "code",
   "execution_count": 19,
   "metadata": {},
   "outputs": [
    {
     "name": "stdout",
     "output_type": "stream",
     "text": [
      "[8, 3, 5, 12, 7, 19, 10]\n",
      "[3, 5, 7, 8, 12, 19, 10]\n"
     ]
    }
   ],
   "source": [
    "#create two pointers to look at two numbers side by side (bubble)\n",
    "#say sorted until find bubble out of order \n",
    "#compare each number in bubble and swap if out of order\n",
    "#after swap set flag to unsorted\n",
    "#move bubble\n",
    "#after each pass we know our right edge of list is in correct position\n",
    "#do while unsorted\n",
    "num_list = [8,3,5,12,7,19,10]\n",
    "def bubble_sort(alist):\n",
    "    l_point, r_point = 0 , 1\n",
    "    not_sorted = True\n",
    "    passes = 0\n",
    "    while not_sorted:\n",
    "        l_point, r_point = 0 , 1\n",
    "        not_sorted = False\n",
    "        while r_point < len(alist):\n",
    "            if alist[l_point] > alist[r_point]:\n",
    "                alist[l_point] , alist[r_point] = alist[r_point] , alist[l_point]\n",
    "                not_sorted = True\n",
    "            l_point += 1\n",
    "            r_point += 1\n",
    "        passes += 1 \n",
    "    return alist\n",
    "\n",
    "print(num_list)\n",
    "print(bubble_sort(num_list))"
   ]
  },
  {
   "attachments": {},
   "cell_type": "markdown",
   "metadata": {},
   "source": [
    "##### Insertion Sort\n",
    "\n",
    "Worst Case: O(n^2) time - O(1)space"
   ]
  },
  {
   "cell_type": "code",
   "execution_count": 27,
   "metadata": {},
   "outputs": [
    {
     "name": "stdout",
     "output_type": "stream",
     "text": [
      "[0, 1, 2, 4, 5, 9, 10, 11]\n"
     ]
    }
   ],
   "source": [
    "#mark first element as sorted\n",
    "#for each unsorted element x\n",
    "#extract element x\n",
    "#compare down , if x < number before, continue down \n",
    "def insertion_sort(alist):\n",
    "    for i in range(1, len(alist)):\n",
    "        current_value = alist[i]\n",
    "        j = i - 1\n",
    "        current_index = i\n",
    "        while j >= 0 and current_value < alist[j]:\n",
    "            if current_value < alist[j]:\n",
    "                swap(alist,i,j)\n",
    "            current_index -= 1\n",
    "            i -= 1\n",
    "            j -= 1\n",
    "    return alist\n",
    "\n",
    "print(insertion_sort([10,9,1,4,2,11,0,5]))"
   ]
  },
  {
   "attachments": {},
   "cell_type": "markdown",
   "metadata": {},
   "source": [
    "## Merge Sort"
   ]
  },
  {
   "attachments": {},
   "cell_type": "markdown",
   "metadata": {},
   "source": [
    "#### How it Works"
   ]
  },
  {
   "cell_type": "code",
   "execution_count": 17,
   "metadata": {},
   "outputs": [
    {
     "name": "stdout",
     "output_type": "stream",
     "text": [
      "[1, 2, 5, 22, 60, 77, 88, 99, 100]\n"
     ]
    }
   ],
   "source": [
    "#recursively split list into halves until size of one\n",
    "#compare numbers in start of each list finding smaller of each two\n",
    "#take smaller val and plug into list it came from\n",
    "#until one of lists is complete then add remaining from other list\n",
    "#do whil\n",
    "\n",
    "def merge_sort(alist):\n",
    "    middle_p = (len(alist) // 2) \n",
    "    left_half = alist[:middle_p]\n",
    "    right_half = alist[middle_p:]\n",
    "    if len(left_half) >= 1:\n",
    "        merge_sort(left_half)\n",
    "        merge_sort(right_half)\n",
    "    \n",
    "    left_p = right_p = og_p = 0\n",
    "    while left_p < len(left_half) and right_p < len(right_half):\n",
    "        if left_half[left_p] < right_half[right_p]:\n",
    "            alist[og_p] = left_half[left_p]\n",
    "            left_p += 1\n",
    "        else:\n",
    "            alist[og_p] = right_half[right_p]\n",
    "            right_p += 1\n",
    "        og_p += 1\n",
    "    while left_p < len(left_half):\n",
    "        alist[og_p] = left_half[left_p]\n",
    "        left_p += 1\n",
    "        og_p += 1\n",
    "    while right_p < len(right_half):\n",
    "        alist[og_p] = right_half[right_p]\n",
    "        right_p += 1\n",
    "        og_p += 1\n",
    "\n",
    "num_list = [100,1,88,77,5,99,2,60,22]\n",
    "merge_sort(num_list)\n",
    "print(num_list)"
   ]
  },
  {
   "cell_type": "code",
   "execution_count": null,
   "metadata": {},
   "outputs": [],
   "source": [
    "#Stack - Last In First Out - LIFO\n",
    "\n",
    "stack = []\n",
    "\n",
    "stack.append(1)\n",
    "stack.append(2) # O(1)\n",
    "print(stack)\n",
    "stack.pop() #O(1)\n",
    "print(stack)\n",
    "\n",
    "#Queue - First In First Out - FIFO \n",
    "queue = []\n",
    "queue.append('sean') #O(1)\n",
    "queue.append('dylan') #O(1)\n",
    "print(queue)\n",
    "first_joined = queue.pop(0) #O(n)\n",
    "print(queue)\n",
    "print(first_joined)"
   ]
  },
  {
   "cell_type": "code",
   "execution_count": 45,
   "metadata": {},
   "outputs": [
    {
     "name": "stdout",
     "output_type": "stream",
     "text": [
      "node.value node.value node.value node.value "
     ]
    }
   ],
   "source": [
    "# Node has a value & connection to next node \n",
    "\n",
    "class Node:\n",
    "    def __init__(self, value):\n",
    "        self.value = value\n",
    "        self.right = None\n",
    "        self.left = None\n",
    "\n",
    "    def __repr__(self):\n",
    "        return f'Node: {self.value}'\n",
    "\n",
    "node = Node('monday')\n",
    "node2 = Node('tuesday')\n",
    "node3 = Node('wednesday')\n",
    "node4 = Node('thursday')\n",
    "\n",
    "node.right = node2\n",
    "node2.right = node3\n",
    "node2.right.right = node4\n",
    "\n",
    "current_node = node\n",
    "\n",
    "while current_node:\n",
    "    print(f'{node.value} ', end='')"
   ]
  },
  {
   "attachments": {},
   "cell_type": "markdown",
   "metadata": {},
   "source": [
    "# Binary Search\n",
    "\n",
    "The Binary Search algorithm works by finding the number in the middle of a given array and comparing it to the target. Given that the array is sorted\n",
    "\n",
    "* The worst case run time for this algorithm is `O(log(n))`"
   ]
  },
  {
   "cell_type": "code",
   "execution_count": null,
   "metadata": {},
   "outputs": [],
   "source": []
  },
  {
   "attachments": {},
   "cell_type": "markdown",
   "metadata": {},
   "source": [
    "# Exercises"
   ]
  },
  {
   "attachments": {},
   "cell_type": "markdown",
   "metadata": {},
   "source": [
    "### Exercise #1 <br>\n",
    "<p>Reverse the list below in-place using an in-place algorithm.<br>For extra credit: Reverse the strings at the same time.</p>"
   ]
  },
  {
   "cell_type": "code",
   "execution_count": 15,
   "metadata": {},
   "outputs": [
    {
     "name": "stdout",
     "output_type": "stream",
     "text": [
      "['this', 'is', 'a', 'sentence', '.']\n",
      "['.', 'ecnetnes', 'a', 'si', 'siht']\n"
     ]
    }
   ],
   "source": [
    "words = ['this' , 'is', 'a', 'sentence', '.']\n",
    "\n",
    "def reverse_sentence(alist):\n",
    "    l , r = 0 , len(alist) - 1 #O(1)\n",
    "    while l < r: #O(n)\n",
    "        alist[l] = alist[l][::-1] #O(n)\n",
    "        alist[r] = alist[r][::-1] #O(n)\n",
    "        alist[l], alist[r] = alist[r] , alist[l]  #O(1)\n",
    "        l += 1 #O(1)\n",
    "        r -= 1 #O(1)\n",
    "    return alist #O(1)\n",
    "\n",
    "#O(n ** 2)\n",
    "print(words)\n",
    "print(reverse_sentence(words))"
   ]
  },
  {
   "attachments": {},
   "cell_type": "markdown",
   "metadata": {},
   "source": [
    "### Exercise #2 <br>\n",
    "<p>Create a function that counts how many distinct words are in the string below, then outputs a dictionary with the words as the key and the value as the amount of times that word appears in the string.<br>Should output:<br>{'a': 5,<br>\n",
    " 'abstract': 1,<br>\n",
    " 'an': 3,<br>\n",
    " 'array': 2, ... etc...</p>"
   ]
  },
  {
   "cell_type": "code",
   "execution_count": 27,
   "metadata": {},
   "outputs": [
    {
     "name": "stdout",
     "output_type": "stream",
     "text": [
      "{'a': 5, 'abstract': 1, 'an': 3, 'array': 2, 'associative': 1, 'be': 1, 'buckets': 1, 'can': 2, 'compute': 1, 'computing': 1, 'data': 2, 'desired': 1, 'found': 1, 'from': 1, 'function': 1, 'hash': 4, 'implements': 1, 'in': 1, 'index': 1, 'into': 1, 'is': 1, 'keys': 1, 'map': 2, 'of': 1, 'or': 1, 'slots': 1, 'structure': 2, 'table': 2, 'that': 1, 'the': 1, 'to': 2, 'type': 1, 'uses': 1, 'value': 1, 'values': 1, 'which': 2}\n"
     ]
    }
   ],
   "source": [
    "a_text = 'In computing, a hash table hash map is a data structure which implements an associative array abstract data type, a structure that can map keys to values. A hash table uses a hash function to compute an index into an array of buckets or slots from which the desired value can be found'\n",
    "\n",
    "def sort_words_count(astring):\n",
    "    astring = astring.lower() #O(n)\n",
    "    astring = astring.replace(',', '') #O(n)\n",
    "    astring = astring.replace('.', '') #O(n)\n",
    "    words = astring.split(' ') #O(n)\n",
    "    #words.sort() #O(n log n) / can just use .sort() but I've commented it out to use my own merge sort\n",
    "    sort_by_char(words)  #O(n log n**2)\n",
    "    \n",
    "    d = {} #O(1)\n",
    "    for w in words: #O(n)\n",
    "        if w not in d: #O(1)\n",
    "            d[w] = 1 #O(1)\n",
    "        else:\n",
    "            d[w] += 1 #O(1)\n",
    "    return d #O(1)\n",
    "#O(n log n) or O(n log n**2)\n",
    "\n",
    "def sort_by_char(alist): \n",
    "    mid = len(alist) // 2 #O(1)\n",
    "    left, right = alist[:mid] , alist[mid:] #O(n)\n",
    "    if len(left) >= 1: #O(1)\n",
    "        sort_by_char(left) #O(n log n ** 2)\n",
    "        sort_by_char(right) #O(n log n ** 2)\n",
    "    lp = rp = op = 0 #O(1)\n",
    "    while lp < len(left) and rp < len(right): #O(n)\n",
    "        if left[lp] == right[rp]: #O(n)\n",
    "            alist[op] = right[rp]  #O(1)\n",
    "            rp += 1 #O(1)\n",
    "        elif ord(left[lp][0:1]) < ord(right[rp][0:1]): #O(1)\n",
    "            alist[op] = left[lp] #O(1)\n",
    "            lp += 1 #O(1)\n",
    "        elif ord(left[lp][0:1]) > ord(right[rp][0:1]): #O(1)\n",
    "            alist[op] = right[rp] #O(1)\n",
    "            rp += 1 #O(1)\n",
    "        else:\n",
    "            if len(left[lp]) == 1:  #O(1)\n",
    "                alist[op] = left[lp] #O(1)\n",
    "                lp += 1 #O(1)\n",
    "            elif len(right[rp]) == 1:  #O(1)\n",
    "                alist[op] = right[rp] #O(1)\n",
    "                rp += 1 #O(1)\n",
    "            else:\n",
    "                count = 1  #O(1)\n",
    "                while count < len(left[lp]) and count < len(right[rp]):  #O(n)\n",
    "                    if ord(left[lp][count:count + 1]) < ord(right[rp][count:count + 1]): #O(1)\n",
    "                        alist[op] = left[lp] #O(1)\n",
    "                        lp += 1 #O(1)\n",
    "                        break\n",
    "                    elif ord(left[lp][count:count + 1]) > ord(right[rp][count:count + 1]): #O(1)\n",
    "                        alist[op] = right[rp] #O(1)\n",
    "                        rp += 1 #O(1)\n",
    "                        break\n",
    "                    elif len(left[lp]) == count + 1: #O(1)\n",
    "                        alist[op] = left[lp] #O(1)\n",
    "                        lp += 1 #O(1)\n",
    "                        break\n",
    "                    elif len(right[rp]) == count + 1: #O(1)\n",
    "                        alist[op] = right[rp] #O(1)\n",
    "                        rp += 1 #O(1)\n",
    "                        break\n",
    "                    count += 1  #O(1)\n",
    "        op += 1  #O(1)\n",
    "    while lp < len(left): #O(n)\n",
    "        alist[op] = left[lp] #O(1)\n",
    "        lp += 1 #O(1)\n",
    "        op += 1 #O(1)\n",
    "    while rp < len(right): #O(n)\n",
    "        alist[op] = right[rp] #O(1)\n",
    "        rp += 1 #O(1)\n",
    "        op += 1 #O(1)\n",
    "#O(n log n**2)\n",
    "\n",
    "print(sort_words_count(a_text))"
   ]
  },
  {
   "attachments": {},
   "cell_type": "markdown",
   "metadata": {},
   "source": [
    "## Exercise #3\n",
    "\n",
    "Write a program to implement a Linear Search Algorithm. Also in a comment, write the Time Complexity of the following algorithm.\n",
    "\n",
    "#### Hint: Linear Searching will require searching a list for a given number. "
   ]
  },
  {
   "cell_type": "code",
   "execution_count": null,
   "metadata": {},
   "outputs": [],
   "source": [
    "def is_in_list(alist, target): \n",
    "    for i in alist: #O(n)\n",
    "        if i == target: #O(1)\n",
    "            return target #O(1)\n",
    "    return None #O(1)\n",
    "\n",
    "#O(n)"
   ]
  }
 ],
 "metadata": {
  "kernelspec": {
   "display_name": "Python 3",
   "language": "python",
   "name": "python3"
  },
  "language_info": {
   "codemirror_mode": {
    "name": "ipython",
    "version": 3
   },
   "file_extension": ".py",
   "mimetype": "text/x-python",
   "name": "python",
   "nbconvert_exporter": "python",
   "pygments_lexer": "ipython3",
   "version": "3.11.4"
  }
 },
 "nbformat": 4,
 "nbformat_minor": 2
}
